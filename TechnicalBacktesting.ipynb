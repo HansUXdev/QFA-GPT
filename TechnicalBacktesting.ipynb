{
 "cells": [
  {
   "cell_type": "markdown",
   "id": "1c96106d",
   "metadata": {},
   "source": [
    "# Backtesting Candlestick and Chart Patterns with Machine Learning\n",
    "In this notebook, we'll explore the effectiveness of various candlestick and chart patterns in predicting stock price movements. Our approach combines traditional technical analysis with machine learning, specifically using XGBoost, to backtest these patterns on selected assets over a given timeframe."
   ]
  },
  {
   "cell_type": "code",
   "execution_count": 4,
   "id": "4c02592d",
   "metadata": {},
   "outputs": [
    {
     "name": "stdout",
     "output_type": "stream",
     "text": [
      "Collecting TA-Lib\n",
      "  Using cached TA-Lib-0.4.28.tar.gz (357 kB)\n",
      "  Installing build dependencies: started\n",
      "  Installing build dependencies: finished with status 'done'\n",
      "  Getting requirements to build wheel: started\n",
      "  Getting requirements to build wheel: finished with status 'done'\n",
      "  Installing backend dependencies: started\n",
      "  Installing backend dependencies: finished with status 'done'\n",
      "  Preparing metadata (pyproject.toml): started\n",
      "  Preparing metadata (pyproject.toml): finished with status 'done'\n",
      "Requirement already satisfied: numpy in c:\\programdata\\anaconda3\\lib\\site-packages (from TA-Lib) (1.24.3)\n",
      "Building wheels for collected packages: TA-Lib\n",
      "  Building wheel for TA-Lib (pyproject.toml): started\n",
      "  Building wheel for TA-Lib (pyproject.toml): finished with status 'error'\n",
      "Failed to build TA-Lib\n",
      "Note: you may need to restart the kernel to use updated packages.\n"
     ]
    },
    {
     "name": "stderr",
     "output_type": "stream",
     "text": [
      "  error: subprocess-exited-with-error\n",
      "  \n",
      "  Building wheel for TA-Lib (pyproject.toml) did not run successfully.\n",
      "  exit code: 1\n",
      "  \n",
      "  [20 lines of output]\n",
      "  <string>:77: UserWarning: Cannot find ta-lib library, installation may fail.\n",
      "  running bdist_wheel\n",
      "  running build\n",
      "  running build_py\n",
      "  creating build\n",
      "  creating build\\lib.win-amd64-cpython-311\n",
      "  creating build\\lib.win-amd64-cpython-311\\talib\n",
      "  copying talib\\abstract.py -> build\\lib.win-amd64-cpython-311\\talib\n",
      "  copying talib\\deprecated.py -> build\\lib.win-amd64-cpython-311\\talib\n",
      "  copying talib\\stream.py -> build\\lib.win-amd64-cpython-311\\talib\n",
      "  copying talib\\__init__.py -> build\\lib.win-amd64-cpython-311\\talib\n",
      "  running build_ext\n",
      "  building 'talib._ta_lib' extension\n",
      "  creating build\\temp.win-amd64-cpython-311\n",
      "  creating build\\temp.win-amd64-cpython-311\\Release\n",
      "  creating build\\temp.win-amd64-cpython-311\\Release\\talib\n",
      "  \"C:\\Program Files (x86)\\Microsoft Visual Studio\\2022\\BuildTools\\VC\\Tools\\MSVC\\14.36.32532\\bin\\HostX86\\x64\\cl.exe\" /c /nologo /O2 /W3 /GL /DNDEBUG /MD -Ic:\\ta-lib\\c\\include -IC:\\Users\\Administrator\\AppData\\Local\\Temp\\pip-build-env-dshyjw9j\\normal\\Lib\\site-packages\\numpy\\core\\include -IC:\\ProgramData\\anaconda3\\include -IC:\\ProgramData\\anaconda3\\Include \"-IC:\\Program Files (x86)\\Microsoft Visual Studio\\2022\\BuildTools\\VC\\Tools\\MSVC\\14.36.32532\\include\" \"-IC:\\Program Files (x86)\\Microsoft Visual Studio\\2022\\BuildTools\\VC\\Tools\\MSVC\\14.36.32532\\ATLMFC\\include\" \"-IC:\\Program Files (x86)\\Microsoft Visual Studio\\2022\\BuildTools\\VC\\Auxiliary\\VS\\include\" \"-IC:\\Program Files (x86)\\Windows Kits\\10\\include\\10.0.22000.0\\ucrt\" \"-IC:\\Program Files (x86)\\Windows Kits\\10\\\\include\\10.0.22000.0\\\\um\" \"-IC:\\Program Files (x86)\\Windows Kits\\10\\\\include\\10.0.22000.0\\\\shared\" \"-IC:\\Program Files (x86)\\Windows Kits\\10\\\\include\\10.0.22000.0\\\\winrt\" \"-IC:\\Program Files (x86)\\Windows Kits\\10\\\\include\\10.0.22000.0\\\\cppwinrt\" \"-IC:\\Program Files (x86)\\Windows Kits\\NETFXSDK\\4.8\\include\\um\" /Tctalib/_ta_lib.c /Fobuild\\temp.win-amd64-cpython-311\\Release\\talib/_ta_lib.obj\n",
      "  _ta_lib.c\n",
      "  talib/_ta_lib.c(1080): fatal error C1083: Cannot open include file: 'ta_libc.h': No such file or directory\n",
      "  error: command 'C:\\\\Program Files (x86)\\\\Microsoft Visual Studio\\\\2022\\\\BuildTools\\\\VC\\\\Tools\\\\MSVC\\\\14.36.32532\\\\bin\\\\HostX86\\\\x64\\\\cl.exe' failed with exit code 2\n",
      "  [end of output]\n",
      "  \n",
      "  note: This error originates from a subprocess, and is likely not a problem with pip.\n",
      "  ERROR: Failed building wheel for TA-Lib\n",
      "ERROR: Could not build wheels for TA-Lib, which is required to install pyproject.toml-based projects\n"
     ]
    }
   ],
   "source": [
    "pip install numpy pandas xgboost scikit-learn yfinance backtrader TA-Lib"
   ]
  },
  {
   "cell_type": "code",
   "execution_count": 3,
   "id": "49b3fe53",
   "metadata": {},
   "outputs": [
    {
     "ename": "ModuleNotFoundError",
     "evalue": "No module named 'talib'",
     "output_type": "error",
     "traceback": [
      "\u001b[1;31m---------------------------------------------------------------------------\u001b[0m",
      "\u001b[1;31mModuleNotFoundError\u001b[0m                       Traceback (most recent call last)",
      "Cell \u001b[1;32mIn[3], line 8\u001b[0m\n\u001b[0;32m      6\u001b[0m \u001b[38;5;28;01mfrom\u001b[39;00m \u001b[38;5;21;01msklearn\u001b[39;00m\u001b[38;5;21;01m.\u001b[39;00m\u001b[38;5;21;01mmetrics\u001b[39;00m \u001b[38;5;28;01mimport\u001b[39;00m accuracy_score\n\u001b[0;32m      7\u001b[0m \u001b[38;5;66;03m# You might need to install TA-Lib or another library for pattern recognition\u001b[39;00m\n\u001b[1;32m----> 8\u001b[0m \u001b[38;5;28;01mimport\u001b[39;00m \u001b[38;5;21;01mtalib\u001b[39;00m\n\u001b[0;32m      9\u001b[0m \u001b[38;5;28;01mimport\u001b[39;00m \u001b[38;5;21;01myfinance\u001b[39;00m \u001b[38;5;28;01mas\u001b[39;00m \u001b[38;5;21;01myf\u001b[39;00m\n\u001b[0;32m     10\u001b[0m \u001b[38;5;66;03m# For backtesting, you can use Backtrader or another backtesting library\u001b[39;00m\n",
      "\u001b[1;31mModuleNotFoundError\u001b[0m: No module named 'talib'"
     ]
    }
   ],
   "source": [
    "# Import necessary libraries\n",
    "import numpy as np\n",
    "import pandas as pd\n",
    "import xgboost as xgb\n",
    "from sklearn.model_selection import train_test_split\n",
    "from sklearn.metrics import accuracy_score\n",
    "# You might need to install TA-Lib or another library for pattern recognition\n",
    "import talib\n",
    "import yfinance as yf\n",
    "# For backtesting, you can use Backtrader or another backtesting library\n",
    "import backtrader as bt"
   ]
  },
  {
   "cell_type": "markdown",
   "id": "2201f6b2",
   "metadata": {},
   "source": [
    "# Data Acquisition\n",
    "We will fetch historical data for the assets using the yfinance library."
   ]
  },
  {
   "cell_type": "code",
   "execution_count": null,
   "id": "b79ac230",
   "metadata": {},
   "outputs": [],
   "source": [
    "def fetch_data(asset, start, end):\n",
    "    data = yf.download(asset, start=start, end=end)\n",
    "    return data\n"
   ]
  },
  {
   "cell_type": "markdown",
   "id": "811665fc",
   "metadata": {},
   "source": [
    "# Pattern Recognition\n",
    "Using TA-Lib, we will identify various candlestick patterns in the data."
   ]
  },
  {
   "cell_type": "code",
   "execution_count": null,
   "id": "64860e3c",
   "metadata": {},
   "outputs": [],
   "source": [
    "def add_candlestick_patterns(data):\n",
    "    # Example: Adding a few candlestick patterns\n",
    "    data['Hammer'] = talib.CDLHAMMER(data['Open'], data['High'], data['Low'], data['Close'])\n",
    "    data['Engulfing'] = talib.CDLENGULFING(data['Open'], data['High'], data['Low'], data['Close'])\n",
    "    # Add more patterns as needed\n",
    "    return data"
   ]
  },
  {
   "cell_type": "markdown",
   "id": "d829e552",
   "metadata": {},
   "source": [
    "# Data Preparation\n",
    "This step involves preparing our dataset for the machine learning model, including feature creation and labeling."
   ]
  },
  {
   "cell_type": "code",
   "execution_count": null,
   "id": "2cad8aa3",
   "metadata": {},
   "outputs": [],
   "source": [
    "def prepare_data(data):\n",
    "    # Add features and labels for ML model\n",
    "    # Example: Using the next day's return as a label\n",
    "    data['Next_Close'] = data['Close'].shift(-1)\n",
    "    data['Return'] = (data['Next_Close'] - data['Close']) / data['Close']\n",
    "    data['Target'] = np.where(data['Return'] > 0, 1, 0)\n",
    "    # Drop rows with NaN values\n",
    "    data = data.dropna()\n",
    "    X = data.drop(['Target', 'Return', 'Next_Close'], axis=1)\n",
    "    y = data['Target']\n",
    "    return X, y"
   ]
  },
  {
   "cell_type": "markdown",
   "id": "922a5127",
   "metadata": {},
   "source": [
    "# Model Training\n",
    "Here, we'll train an XGBoost model to predict future price movements based on identified patterns."
   ]
  },
  {
   "cell_type": "code",
   "execution_count": null,
   "id": "b81bedc1",
   "metadata": {},
   "outputs": [],
   "source": [
    "def train_model(X, y):\n",
    "    X_train, X_test, y_train, y_test = train_test_split(X, y, test_size=0.2, random_state=42)\n",
    "    model = xgb.XGBClassifier()\n",
    "    model.fit(X_train, y_train)\n",
    "    predictions = model.predict(X_test)\n",
    "    accuracy = accuracy_score(y_test, predictions)\n",
    "    print(f\"Model Accuracy: {accuracy}\")\n",
    "    return model"
   ]
  },
  {
   "cell_type": "markdown",
   "id": "9a9c38a3",
   "metadata": {},
   "source": [
    "# Backtesting Strategy\n",
    "Using backtrader, we will backtest the predictions made by our model to evaluate its effectiveness."
   ]
  },
  {
   "cell_type": "code",
   "execution_count": null,
   "id": "954a365e",
   "metadata": {},
   "outputs": [],
   "source": [
    "def backtest_strategy(data, model):\n",
    "    # Implement backtesting logic here\n",
    "    # This is a placeholder function\n",
    "    pass\n"
   ]
  },
  {
   "cell_type": "markdown",
   "id": "d542f452",
   "metadata": {},
   "source": [
    "# Main Execution\n",
    "The main function orchestrates the process from data fetching to backtesting for each asset."
   ]
  },
  {
   "cell_type": "code",
   "execution_count": null,
   "id": "5d880420",
   "metadata": {},
   "outputs": [],
   "source": [
    "# Main function\n",
    "def main():\n",
    "    assets = ['SPY', 'TQQQ', 'SPSX']\n",
    "    start = '2020-01-01'\n",
    "    end = '2021-01-01'\n",
    "\n",
    "    for asset in assets:\n",
    "        print(f\"Processing {asset}\")\n",
    "        data = fetch_data(asset, start, end)\n",
    "        data_with_patterns = add_candlestick_patterns(data)\n",
    "        X, y = prepare_data(data_with_patterns)\n",
    "        model = train_model(X, y)\n",
    "        backtest_strategy(data_with_patterns, model)\n",
    "\n",
    "if __name__ == \"__main__\":\n",
    "    main()"
   ]
  },
  {
   "cell_type": "markdown",
   "id": "0f771452",
   "metadata": {},
   "source": []
  },
  {
   "cell_type": "code",
   "execution_count": null,
   "id": "4eba9fba",
   "metadata": {},
   "outputs": [],
   "source": []
  },
  {
   "cell_type": "markdown",
   "id": "d4fd2966",
   "metadata": {},
   "source": []
  },
  {
   "cell_type": "code",
   "execution_count": null,
   "id": "2cb32bc2",
   "metadata": {},
   "outputs": [],
   "source": []
  },
  {
   "cell_type": "markdown",
   "id": "ad583e9e",
   "metadata": {},
   "source": []
  },
  {
   "cell_type": "code",
   "execution_count": null,
   "id": "31612d64",
   "metadata": {},
   "outputs": [],
   "source": []
  },
  {
   "cell_type": "markdown",
   "id": "b8a34fb3",
   "metadata": {},
   "source": []
  },
  {
   "cell_type": "code",
   "execution_count": null,
   "id": "6881c610",
   "metadata": {},
   "outputs": [],
   "source": []
  },
  {
   "cell_type": "markdown",
   "id": "85011729",
   "metadata": {},
   "source": []
  },
  {
   "cell_type": "code",
   "execution_count": null,
   "id": "8a89de57",
   "metadata": {},
   "outputs": [],
   "source": []
  },
  {
   "cell_type": "markdown",
   "id": "db6aa3a2",
   "metadata": {},
   "source": []
  },
  {
   "cell_type": "code",
   "execution_count": null,
   "id": "98cf394a",
   "metadata": {},
   "outputs": [],
   "source": []
  },
  {
   "cell_type": "markdown",
   "id": "519eb2e3",
   "metadata": {},
   "source": []
  },
  {
   "cell_type": "code",
   "execution_count": null,
   "id": "ef864067",
   "metadata": {},
   "outputs": [],
   "source": []
  }
 ],
 "metadata": {
  "kernelspec": {
   "display_name": "Python 3 (ipykernel)",
   "language": "python",
   "name": "python3"
  },
  "language_info": {
   "codemirror_mode": {
    "name": "ipython",
    "version": 3
   },
   "file_extension": ".py",
   "mimetype": "text/x-python",
   "name": "python",
   "nbconvert_exporter": "python",
   "pygments_lexer": "ipython3",
   "version": "3.11.5"
  }
 },
 "nbformat": 4,
 "nbformat_minor": 5
}
